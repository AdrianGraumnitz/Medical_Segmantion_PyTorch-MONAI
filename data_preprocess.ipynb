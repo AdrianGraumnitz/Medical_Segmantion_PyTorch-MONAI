{
 "cells": [
  {
   "cell_type": "code",
   "execution_count": 1,
   "metadata": {},
   "outputs": [
    {
     "name": "stderr",
     "output_type": "stream",
     "text": [
      "c:\\Users\\graumnitz\\AppData\\Local\\anaconda3\\envs\\heart\\Lib\\site-packages\\tqdm\\auto.py:21: TqdmWarning: IProgress not found. Please update jupyter and ipywidgets. See https://ipywidgets.readthedocs.io/en/stable/user_install.html\n",
      "  from .autonotebook import tqdm as notebook_tqdm\n"
     ]
    }
   ],
   "source": [
    "from pathlib import Path\n",
    "import data_setup\n",
    "import utils"
   ]
  },
  {
   "cell_type": "markdown",
   "metadata": {},
   "source": [
    "## 1. Create directorys for the train and test images and labels"
   ]
  },
  {
   "cell_type": "code",
   "execution_count": 2,
   "metadata": {},
   "outputs": [],
   "source": [
    "# Train image directory\n",
    "(Path.cwd().parent / 'data' / 'train_volumes').mkdir(parents = True, exist_ok = True)\n",
    "# Train label directory\n",
    "(Path.cwd().parent / 'data' / 'train_segmentations').mkdir(parents = True, exist_ok = True)\n",
    "# Test image directory\n",
    "(Path.cwd().parent / 'data' / 'test_volumes').mkdir(parents = True, exist_ok = True)\n",
    "# Test label directory\n",
    "(Path.cwd().parent / 'data' / 'test_segmentations').mkdir(parents = True, exist_ok = True)"
   ]
  },
  {
   "cell_type": "markdown",
   "metadata": {},
   "source": [
    "## 2. If you have dicoms you can order them to niftis in same size with the following functions"
   ]
  },
  {
   "cell_type": "markdown",
   "metadata": {},
   "source": [
    "### 2.1 Creating directories for your dicoms and nifti files\n",
    "    In the unordered DICOM directories, you need to manually create a directory for each dataset."
   ]
  },
  {
   "cell_type": "code",
   "execution_count": 3,
   "metadata": {},
   "outputs": [],
   "source": [
    "# Put in this directory your dicom images\n",
    "unordered_dicom_volumes = Path.cwd().parent / 'data' / 'unordered_dicom_volumes'\n",
    "unordered_dicom_volumes.mkdir(parents = True, exist_ok = True)\n",
    "\n",
    "# Put in this directory your dicom labels\n",
    "unordered_dicom_segmentations = Path.cwd().parent / 'data' / 'unordered_dicom_segmentations'\n",
    "unordered_dicom_segmentations.mkdir(parents = True, exist_ok = True)\n",
    "\n",
    "# This directory ist for you ordered dicom images\n",
    "ordered_dicom_volumes = Path.cwd().parent / 'data' / 'ordered_dicom_volumes'\n",
    "ordered_dicom_volumes.mkdir(parents = True, exist_ok = True)\n",
    "\n",
    "# This directory is for you ordered dicom labels\n",
    "ordered_dicom_segmentations = Path.cwd().parent / 'data' / 'ordered_dicom_segmentations'\n",
    "ordered_dicom_segmentations.mkdir(parents = True, exist_ok = True)\n",
    "\n",
    "# This directory is for all of you nifti images\n",
    "nifti_volumes = Path.cwd().parent / 'data' / 'nifti_volumes'\n",
    "nifti_volumes.mkdir(parents = True, exist_ok = True)\n",
    "\n",
    "# This directory is for all of your nifti labels\n",
    "nifti_segmentations = Path.cwd().parent / 'data' / 'nifti_segmentations'\n",
    "nifti_segmentations.mkdir(parents = True, exist_ok = True)\n"
   ]
  },
  {
   "cell_type": "markdown",
   "metadata": {},
   "source": [
    "### 2.2 Organize your DICOMs to have the same number of images per directory"
   ]
  },
  {
   "cell_type": "code",
   "execution_count": null,
   "metadata": {},
   "outputs": [],
   "source": [
    "data_setup.create_groups(in_dir = unordered_dicom_volumes,\n",
    "                         out_dir = ordered_dicom_volumes,\n",
    "                         numb_slices = 200)\n",
    "data_setup.create_groups(in_dir = unordered_dicom_segmentations,\n",
    "                         out_dir = ordered_dicom_segmentations,\n",
    "                         numb_slices = 50)"
   ]
  },
  {
   "cell_type": "markdown",
   "metadata": {},
   "source": [
    "### 2.3 Generate Nifti Files from Your Organized DICOMs"
   ]
  },
  {
   "cell_type": "code",
   "execution_count": 9,
   "metadata": {},
   "outputs": [
    {
     "name": "stderr",
     "output_type": "stream",
     "text": [
      "7it [00:09,  1.29s/it]\n"
     ]
    }
   ],
   "source": [
    "data_setup.dcom2nifti(in_dir = ordered_dicom_volumes,\n",
    "                      out_dir = nifti_volumes)\n",
    "data_setup.dcom2nifti(in_dir = ordered_dicom_segmentations,\n",
    "                      out_dir = nifti_segmentations)"
   ]
  },
  {
   "cell_type": "markdown",
   "metadata": {},
   "source": [
    "### 2.4 Once you have sorted your data into the train and test directories, the remaining directories will be removed.\n"
   ]
  },
  {
   "cell_type": "code",
   "execution_count": 7,
   "metadata": {},
   "outputs": [
    {
     "name": "stdout",
     "output_type": "stream",
     "text": [
      "[INFO] No directory exists under the path: d:\\Meine Ablage\\@ Adrian\\__heartsegmentation\\data\\unordered_dicom_volumes.\n",
      "[INFO] No directory exists under the path: d:\\Meine Ablage\\@ Adrian\\__heartsegmentation\\data\\unordered_dicom_segmentations.\n",
      "[INFO] No directory exists under the path: d:\\Meine Ablage\\@ Adrian\\__heartsegmentation\\data\\ordered_dicom_volumes.\n",
      "[INFO] No directory exists under the path: d:\\Meine Ablage\\@ Adrian\\__heartsegmentation\\data\\ordered_dicom_segmentations.\n",
      "[INFO] The directory d:\\Meine Ablage\\@ Adrian\\__heartsegmentation\\data\\nifti_volumes has been recursively removed.\n",
      "[INFO] The directory d:\\Meine Ablage\\@ Adrian\\__heartsegmentation\\data\\nifti_segmentations has been recursively removed.\n"
     ]
    }
   ],
   "source": [
    "utils.remove_directory_recursive(unordered_dicom_volumes)\n",
    "utils.remove_directory_recursive(unordered_dicom_segmentations)\n",
    "utils.remove_directory_recursive(ordered_dicom_volumes)\n",
    "utils.remove_directory_recursive(ordered_dicom_segmentations)\n",
    "utils.remove_directory_recursive(nifti_volumes)\n",
    "utils.remove_directory_recursive(nifti_segmentations)"
   ]
  },
  {
   "cell_type": "markdown",
   "metadata": {},
   "source": [
    "## 3. If your labels are not yet mapped to classes and still retain their original gray values (e.g., 850), follow these instructions."
   ]
  },
  {
   "cell_type": "markdown",
   "metadata": {},
   "source": [
    "### 3.1 Place your train and test labels into these directories."
   ]
  },
  {
   "cell_type": "code",
   "execution_count": 8,
   "metadata": {},
   "outputs": [],
   "source": [
    "unmapped_train_segmentations = Path.cwd().parent / 'data' / 'unmapped_train_segmentations'\n",
    "unmapped_train_segmentations.mkdir(parents = True, exist_ok = True)\n",
    "unmapped_test_segmentations = Path.cwd().parent / 'data' / 'unmapped_test_segmentations'\n",
    "unmapped_test_segmentations.mkdir(parents = True, exist_ok = True)"
   ]
  },
  {
   "cell_type": "markdown",
   "metadata": {},
   "source": [
    "### 3.2 Map and move the labels to the train and test_segmentations directories."
   ]
  },
  {
   "cell_type": "code",
   "execution_count": 9,
   "metadata": {},
   "outputs": [
    {
     "name": "stdout",
     "output_type": "stream",
     "text": [
      "[INFO] Mapping ct_train_1001_2.nii.gz to d:\\Meine Ablage\\@ Adrian\\__heartsegmentation\\data\\train_segmentations directory\n",
      "[INFO] Mapping ct_train_1001_0.nii.gz to d:\\Meine Ablage\\@ Adrian\\__heartsegmentation\\data\\train_segmentations directory\n",
      "[INFO] Mapping ct_train_1001_1.nii.gz to d:\\Meine Ablage\\@ Adrian\\__heartsegmentation\\data\\train_segmentations directory\n",
      "[INFO] Mapping ct_train_1001_6.nii.gz to d:\\Meine Ablage\\@ Adrian\\__heartsegmentation\\data\\test_segmentations directory\n",
      "[INFO] Mapping ct_train_1001_3.nii.gz to d:\\Meine Ablage\\@ Adrian\\__heartsegmentation\\data\\test_segmentations directory\n",
      "[INFO] Mapping ct_train_1001_4.nii.gz to d:\\Meine Ablage\\@ Adrian\\__heartsegmentation\\data\\test_segmentations directory\n",
      "[INFO] Mapping ct_train_1001_5.nii.gz to d:\\Meine Ablage\\@ Adrian\\__heartsegmentation\\data\\test_segmentations directory\n"
     ]
    }
   ],
   "source": [
    "data_setup.edit_label(in_dir = unmapped_train_segmentations,\n",
    "                      out_dir = Path.cwd().parent / 'data' / 'train_segmentations')\n",
    "data_setup.edit_label(in_dir = unmapped_test_segmentations,\n",
    "                      out_dir = Path.cwd().parent / 'data' / 'test_segmentations')"
   ]
  },
  {
   "cell_type": "markdown",
   "metadata": {},
   "source": [
    "### 3.3 Remove the unmapped directories"
   ]
  },
  {
   "cell_type": "code",
   "execution_count": 10,
   "metadata": {},
   "outputs": [
    {
     "name": "stdout",
     "output_type": "stream",
     "text": [
      "[INFO] The directory d:\\Meine Ablage\\@ Adrian\\__heartsegmentation\\data\\unmapped_train_segmentations has been recursively removed.\n",
      "[INFO] The directory d:\\Meine Ablage\\@ Adrian\\__heartsegmentation\\data\\unmapped_test_segmentations has been recursively removed.\n"
     ]
    }
   ],
   "source": [
    "utils.remove_directory_recursive(in_dir = unmapped_train_segmentations)\n",
    "utils.remove_directory_recursive(in_dir = unmapped_test_segmentations)"
   ]
  },
  {
   "cell_type": "markdown",
   "metadata": {},
   "source": [
    "## Your data is now ready for the dataloader. Proceed to the 'train.ipynb' notebook."
   ]
  },
  {
   "cell_type": "markdown",
   "metadata": {},
   "source": []
  }
 ],
 "metadata": {
  "kernelspec": {
   "display_name": "heart",
   "language": "python",
   "name": "python3"
  },
  "language_info": {
   "codemirror_mode": {
    "name": "ipython",
    "version": 3
   },
   "file_extension": ".py",
   "mimetype": "text/x-python",
   "name": "python",
   "nbconvert_exporter": "python",
   "pygments_lexer": "ipython3",
   "version": "3.11.5"
  }
 },
 "nbformat": 4,
 "nbformat_minor": 2
}
