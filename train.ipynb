{
 "cells": [
  {
   "cell_type": "code",
   "execution_count": 1,
   "metadata": {},
   "outputs": [],
   "source": [
    "import data_setup, engine, u_net, utils\n",
    "from pathlib import Path\n",
    "from monai import losses\n",
    "import torch"
   ]
  },
  {
   "cell_type": "markdown",
   "metadata": {},
   "source": [
    "## 1. Create the train and test_dataloader"
   ]
  },
  {
   "cell_type": "code",
   "execution_count": 2,
   "metadata": {},
   "outputs": [
    {
     "name": "stderr",
     "output_type": "stream",
     "text": [
      "c:\\Users\\graumnitz\\AppData\\Local\\anaconda3\\envs\\heart\\Lib\\site-packages\\monai\\utils\\deprecate_utils.py:321: FutureWarning: monai.transforms.croppad.dictionary CropForegroundd.__init__:allow_smaller: Current default value of argument `allow_smaller=True` has been deprecated since version 1.2. It will be changed to `allow_smaller=False` in version 1.5.\n",
      "  warn_deprecated(argname, msg, warning_category)\n"
     ]
    }
   ],
   "source": [
    "in_dir = (Path.cwd().parent) / 'data'\n",
    "train_dataloader, test_dataloader =data_setup.prepare_train_eval_data(in_dir = in_dir,\n",
    "                                                      a_max = 300)"
   ]
  },
  {
   "cell_type": "markdown",
   "metadata": {},
   "source": [
    "### 1.1 Check the length of the dataloader"
   ]
  },
  {
   "cell_type": "code",
   "execution_count": 3,
   "metadata": {},
   "outputs": [
    {
     "name": "stdout",
     "output_type": "stream",
     "text": [
      "Length of the Train dataloader: 2\n",
      "Length of the Test dataloader: 1\n"
     ]
    }
   ],
   "source": [
    "print(f'Length of the Train dataloader: {len(train_dataloader)}\\nLength of the Test dataloader: {len(test_dataloader)}')"
   ]
  },
  {
   "cell_type": "markdown",
   "metadata": {},
   "source": [
    "## 2. Creating a model, the loss function and the optimizer"
   ]
  },
  {
   "cell_type": "code",
   "execution_count": 4,
   "metadata": {},
   "outputs": [
    {
     "name": "stdout",
     "output_type": "stream",
     "text": [
      "[INFO] Number of classes: 8\n",
      "=========================================================================================================================================================================================\n",
      "Layer (type (var_name))                                                               Input Shape               Output Shape              Param #                   Trainable\n",
      "=========================================================================================================================================================================================\n",
      "UNet (UNet)                                                                           [1, 1, 128, 128, 64]      [1, 8, 128, 128, 64]      --                        True\n",
      "├─Sequential (model)                                                                  [1, 1, 128, 128, 64]      [1, 8, 128, 128, 64]      --                        True\n",
      "│    └─ResidualUnit (0)                                                               [1, 1, 128, 128, 64]      [1, 16, 64, 64, 32]       --                        True\n",
      "│    │    └─Conv3d (residual)                                                         [1, 1, 128, 128, 64]      [1, 16, 64, 64, 32]       448                       True\n",
      "│    │    └─Sequential (conv)                                                         [1, 1, 128, 128, 64]      [1, 16, 64, 64, 32]       7,442                     True\n",
      "│    └─SkipConnection (1)                                                             [1, 16, 64, 64, 32]       [1, 32, 64, 64, 32]       --                        True\n",
      "│    │    └─Sequential (submodule)                                                    [1, 16, 64, 64, 32]       [1, 16, 64, 64, 32]       4,799,182                 True\n",
      "│    └─Sequential (2)                                                                 [1, 32, 64, 64, 32]       [1, 8, 128, 128, 64]      --                        True\n",
      "│    │    └─Convolution (0)                                                           [1, 32, 64, 64, 32]       [1, 8, 128, 128, 64]      6,937                     True\n",
      "│    │    └─ResidualUnit (1)                                                          [1, 8, 128, 128, 64]      [1, 8, 128, 128, 64]      1,736                     True\n",
      "=========================================================================================================================================================================================\n",
      "Total params: 4,815,745\n",
      "Trainable params: 4,815,745\n",
      "Non-trainable params: 0\n",
      "Total mult-adds (Units.GIGABYTES): 20.76\n",
      "=========================================================================================================================================================================================\n",
      "Input size (MB): 4.19\n",
      "Forward/backward pass size (MB): 560.20\n",
      "Params size (MB): 19.26\n",
      "Estimated Total Size (MB): 583.66\n",
      "=========================================================================================================================================================================================\n"
     ]
    },
    {
     "data": {
      "text/plain": [
       "False"
      ]
     },
     "execution_count": 4,
     "metadata": {},
     "output_type": "execute_result"
    }
   ],
   "source": [
    "num_classes = utils.number_of_classes(in_dir = in_dir / 'train_segmentations')\n",
    "model, device = u_net.unet(num_classes = num_classes)\n",
    "loss_fn = losses.DiceLoss(to_onehot_y = True, sigmoid = True)\n",
    "optimizer = torch.optim.Adam(params = model.parameters(),\n",
    "                             lr = 0.001)\n",
    "target_dir = (Path.cwd().parent) / 'models'\n",
    "target_dir.is_dir()"
   ]
  },
  {
   "cell_type": "markdown",
   "metadata": {},
   "source": [
    "## 3. Start the training loop"
   ]
  },
  {
   "cell_type": "code",
   "execution_count": 5,
   "metadata": {},
   "outputs": [
    {
     "name": "stdout",
     "output_type": "stream",
     "text": [
      "[INFO Created SummaryWriter saving to c:\\Users\\graumnitz\\Desktop\\Heart_segmentation\\runs\\2024-03-15\\U-net\\DiceLoss short test]\n"
     ]
    },
    {
     "data": {
      "application/vnd.jupyter.widget-view+json": {
       "model_id": "3d5dab5590f744bb8ca62010791cf647",
       "version_major": 2,
       "version_minor": 0
      },
      "text/plain": [
       "  0%|          | 0/2 [00:00<?, ?it/s]"
      ]
     },
     "metadata": {},
     "output_type": "display_data"
    },
    {
     "name": "stdout",
     "output_type": "stream",
     "text": [
      "Step 1 of 2 | train loss: 0.8672 | train metric: 17.77%\n",
      "Step 2 of 2 | train loss: 0.8647 | train metric: 18.00%\n",
      "\n",
      "[INFO] E: 0 | Epoch train loss: 0.8660 | Epoch train metric: 17.88%\n",
      "--------------------------------------------------\n",
      "\n",
      "Step: 1 of 1 | test loss: 0.8626 | test metric: 20.45%\n",
      "\n",
      "[INFO] E: 0 | Epoch test loss: 0.8626 | Epoch test metric: 20.45%\n",
      "--------------------------------------------------\n",
      "\n",
      "[INFO] Saving model to: c:\\Users\\graumnitz\\Desktop\\Heart_segmentation\\models\\test.pth\n",
      "Step 1 of 2 | train loss: 0.8571 | train metric: 19.07%\n",
      "Step 2 of 2 | train loss: 0.8544 | train metric: 19.39%\n",
      "\n",
      "[INFO] E: 1 | Epoch train loss: 0.8557 | Epoch train metric: 19.23%\n",
      "--------------------------------------------------\n",
      "\n"
     ]
    }
   ],
   "source": [
    "if __name__ == '__main__':\n",
    "    engine.train(model = model,\n",
    "                 train_dataloader = train_dataloader,\n",
    "                 test_dataloader = test_dataloader,\n",
    "                 loss_fn = loss_fn,\n",
    "                 optimizer = optimizer,\n",
    "                 device = device,\n",
    "                 target_dir = target_dir,\n",
    "                 model_name = 'ModelV1.pth',\n",
    "                 epochs = 2,\n",
    "                 writer = utils.create_writer(model_name = 'U-net',\n",
    "                                              extra = 'DiceLoss short test'))"
   ]
  }
 ],
 "metadata": {
  "kernelspec": {
   "display_name": "heart",
   "language": "python",
   "name": "python3"
  },
  "language_info": {
   "codemirror_mode": {
    "name": "ipython",
    "version": 3
   },
   "file_extension": ".py",
   "mimetype": "text/x-python",
   "name": "python",
   "nbconvert_exporter": "python",
   "pygments_lexer": "ipython3",
   "version": "3.11.5"
  }
 },
 "nbformat": 4,
 "nbformat_minor": 2
}
