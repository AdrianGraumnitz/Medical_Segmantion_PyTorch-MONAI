{
 "cells": [
  {
   "cell_type": "code",
   "execution_count": 3,
   "metadata": {},
   "outputs": [],
   "source": [
    "import data_setup, engine, u_net, utils\n",
    "from pathlib import Path\n",
    "from monai import losses\n",
    "import torch"
   ]
  },
  {
   "cell_type": "markdown",
   "metadata": {},
   "source": [
    "## 1. Create the train and test_dataloader"
   ]
  },
  {
   "cell_type": "code",
   "execution_count": 4,
   "metadata": {},
   "outputs": [],
   "source": [
    "in_dir = (Path.cwd().parent) / 'data'\n",
    "train_dataloader, test_dataloader =data_setup.prepare(in_dir = in_dir,\n",
    "                                                      a_max = 300)"
   ]
  },
  {
   "cell_type": "markdown",
   "metadata": {},
   "source": [
    "### 1.1 Check the length of the dataloader"
   ]
  },
  {
   "cell_type": "code",
   "execution_count": 5,
   "metadata": {},
   "outputs": [
    {
     "name": "stdout",
     "output_type": "stream",
     "text": [
      "Length of the Train dataloader: 190\n",
      "Length of the Test dataloader: 10\n"
     ]
    }
   ],
   "source": [
    "print(f'Length of the Train dataloader: {len(train_dataloader)}\\nLength of the Test dataloader: {len(test_dataloader)}')"
   ]
  },
  {
   "cell_type": "markdown",
   "metadata": {},
   "source": [
    "## 2. Creating a model, the loss function and the optimizer"
   ]
  },
  {
   "cell_type": "code",
   "execution_count": 6,
   "metadata": {},
   "outputs": [
    {
     "name": "stdout",
     "output_type": "stream",
     "text": [
      "[INFO] Number of classes: 8\n",
      "=========================================================================================================================================================================================\n",
      "Layer (type (var_name))                                                               Input Shape               Output Shape              Param #                   Trainable\n",
      "=========================================================================================================================================================================================\n",
      "UNet (UNet)                                                                           [1, 1, 128, 128, 64]      [1, 8, 128, 128, 64]      --                        True\n",
      "├─Sequential (model)                                                                  [1, 1, 128, 128, 64]      [1, 8, 128, 128, 64]      --                        True\n",
      "│    └─ResidualUnit (0)                                                               [1, 1, 128, 128, 64]      [1, 16, 64, 64, 32]       --                        True\n",
      "│    │    └─Conv3d (residual)                                                         [1, 1, 128, 128, 64]      [1, 16, 64, 64, 32]       448                       True\n",
      "│    │    └─Sequential (conv)                                                         [1, 1, 128, 128, 64]      [1, 16, 64, 64, 32]       7,442                     True\n",
      "│    └─SkipConnection (1)                                                             [1, 16, 64, 64, 32]       [1, 32, 64, 64, 32]       --                        True\n",
      "│    │    └─Sequential (submodule)                                                    [1, 16, 64, 64, 32]       [1, 16, 64, 64, 32]       4,799,182                 True\n",
      "│    └─Sequential (2)                                                                 [1, 32, 64, 64, 32]       [1, 8, 128, 128, 64]      --                        True\n",
      "│    │    └─Convolution (0)                                                           [1, 32, 64, 64, 32]       [1, 8, 128, 128, 64]      6,937                     True\n",
      "│    │    └─ResidualUnit (1)                                                          [1, 8, 128, 128, 64]      [1, 8, 128, 128, 64]      1,736                     True\n",
      "=========================================================================================================================================================================================\n",
      "Total params: 4,815,745\n",
      "Trainable params: 4,815,745\n",
      "Non-trainable params: 0\n",
      "Total mult-adds (Units.GIGABYTES): 20.76\n",
      "=========================================================================================================================================================================================\n",
      "Input size (MB): 4.19\n",
      "Forward/backward pass size (MB): 560.20\n",
      "Params size (MB): 19.26\n",
      "Estimated Total Size (MB): 583.66\n",
      "=========================================================================================================================================================================================\n"
     ]
    },
    {
     "data": {
      "text/plain": [
       "True"
      ]
     },
     "execution_count": 6,
     "metadata": {},
     "output_type": "execute_result"
    }
   ],
   "source": [
    "num_classes = utils.number_of_classes(in_dir = in_dir / 'train_segmentations')\n",
    "model, device = u_net.unet(num_classes = num_classes)\n",
    "loss_fn = losses.DiceLoss(to_onehot_y = True, sigmoid = True)\n",
    "optimizer = torch.optim.Adam(params = model.parameters(),\n",
    "                             lr = 0.001)\n",
    "target_dir = (Path.cwd().parent) / 'models'\n",
    "target_dir.is_dir()"
   ]
  },
  {
   "cell_type": "markdown",
   "metadata": {},
   "source": [
    "## 3. Start the training loop"
   ]
  },
  {
   "cell_type": "code",
   "execution_count": 7,
   "metadata": {},
   "outputs": [
    {
     "name": "stdout",
     "output_type": "stream",
     "text": [
      "[INFO Created SummaryWriter saving to d:\\Meine Ablage\\@ Adrian\\__heartsegmentation\\runs\\2024-02-07\\U-net\\DiceLoss short test]\n"
     ]
    },
    {
     "data": {
      "application/vnd.jupyter.widget-view+json": {
       "model_id": "b9ee175a70fd4573b569ee8dae375e00",
       "version_major": 2,
       "version_minor": 0
      },
      "text/plain": [
       "  0%|          | 0/200 [00:00<?, ?it/s]"
      ]
     },
     "metadata": {},
     "output_type": "display_data"
    },
    {
     "name": "stdout",
     "output_type": "stream",
     "text": [
      "Step 1 of 190 | train loss: 0.8815 | train metric: 15.69%\n",
      "Step 2 of 190 | train loss: 0.8716 | train metric: 17.23%\n",
      "Step 3 of 190 | train loss: 0.8939 | train metric: 13.37%\n",
      "Step 4 of 190 | train loss: 0.8533 | train metric: 19.91%\n",
      "Step 5 of 190 | train loss: 0.8457 | train metric: 21.16%\n",
      "Step 6 of 190 | train loss: 0.8844 | train metric: 14.78%\n",
      "Step 7 of 190 | train loss: 0.8522 | train metric: 19.74%\n",
      "Step 8 of 190 | train loss: 0.8696 | train metric: 16.90%\n",
      "Step 9 of 190 | train loss: 0.8814 | train metric: 14.91%\n",
      "Step 10 of 190 | train loss: 0.8370 | train metric: 21.64%\n",
      "Step 11 of 190 | train loss: 0.8322 | train metric: 22.08%\n"
     ]
    }
   ],
   "source": [
    "if __name__ == '__main__':\n",
    "    engine.train(model = model,\n",
    "                 train_dataloader = train_dataloader,\n",
    "                 test_dataloader = test_dataloader,\n",
    "                 loss_fn = loss_fn,\n",
    "                 optimizer = optimizer,\n",
    "                 device = device,\n",
    "                 target_dir = target_dir,\n",
    "                 model_name = 'ModelV10_DiceLoss.pth',\n",
    "                 epochs = 200,\n",
    "                 writer = utils.create_writer(model_name = 'U-net',\n",
    "                                              extra = 'DiceLoss short test'))"
   ]
  }
 ],
 "metadata": {
  "kernelspec": {
   "display_name": "heart",
   "language": "python",
   "name": "python3"
  },
  "language_info": {
   "codemirror_mode": {
    "name": "ipython",
    "version": 3
   },
   "file_extension": ".py",
   "mimetype": "text/x-python",
   "name": "python",
   "nbconvert_exporter": "python",
   "pygments_lexer": "ipython3",
   "version": "3.11.5"
  }
 },
 "nbformat": 4,
 "nbformat_minor": 2
}
